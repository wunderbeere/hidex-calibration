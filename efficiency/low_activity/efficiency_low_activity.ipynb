{
 "cells": [
  {
   "cell_type": "code",
   "execution_count": 13,
   "id": "e1f7e378-9032-4845-973f-24e6bc3fee5e",
   "metadata": {},
   "outputs": [],
   "source": [
    "import numpy as np\n",
    "import pandas as pd\n",
    "import matplotlib\n",
    "import matplotlib.pyplot as plt\n",
    "plt.close('all')\n",
    "matplotlib.use('TkAgg')\n",
    "\n",
    "import scipy.optimize as opt\n",
    "import scipy\n",
    "\n",
    "import xlwings as xw\n",
    "import os\n",
    "import seaborn as sns\n",
    "\n",
    "n = 10 # number of vials"
   ]
  },
  {
   "cell_type": "markdown",
   "id": "cc0bb625-3a5f-4ef5-a5e6-b1f07f411b92",
   "metadata": {},
   "source": [
    "# Efficiency at low activities (<0.05 $\\mu$Ci)\n",
    "\n",
    "Looking to investigate the efficiency of the Hidex at low activities, so need to reduce the noise in the measurements. To do this:\n",
    "1. Find an appropriate activity (low noise) to measure the FWHM of both peaks (511 keV and 1022 keV)\n",
    "2. Reprocess all data from set 4 that is <0.1 $\\mu$Ci and extract counts for both peaks +- FWHM\n",
    "3. Pass the above counts to the efficiency script"
   ]
  },
  {
   "cell_type": "markdown",
   "id": "f9ce3c3d-2733-4109-a141-19c29231db15",
   "metadata": {},
   "source": [
    "## 1. Find the FWHM of both peaks"
   ]
  },
  {
   "cell_type": "code",
   "execution_count": 14,
   "id": "123c25aa-1b78-4bc9-bc4d-eacfe2f4235e",
   "metadata": {},
   "outputs": [],
   "source": [
    "# get the data from Excel (NOTE: the original files aren't well-formatted so i had to extract \n",
    "# the spectra by hand. However for step 2 I will need to work directly with the Excel files so this is a problem for later.)\n",
    "\n",
    "f = open(\"./data/HidexAMG-Track_30min-035-20240502-013749-AutoExport_SPECTRA.xlsx\", \"rb\")\n",
    "sample_spectra = pd.read_excel(f,\n",
    "                               engine='openpyxl')\n",
    "f.close()\n",
    "\n",
    "sample_spectra = sample_spectra.to_numpy()[:, 2:] #ignores the rack and vial numbers"
   ]
  },
  {
   "cell_type": "code",
   "execution_count": 15,
   "id": "4f7c787e-b1fb-45d0-bada-0b190cd62b4d",
   "metadata": {},
   "outputs": [],
   "source": [
    "def gauss(x, p): # p[0]==mean, p[1]==stdev, p[2]==normalization factor\n",
    "    return p[2]*np.exp(-(x-p[0])**2/(2*p[1]**2))\n",
    "\n",
    "FWHM_511_list = []\n",
    "FWHM_1022_list = []\n",
    "\n",
    "for i in range(0,10):\n",
    "    plt.plot(sample_spectra[i, :])\n",
    "\n",
    "    X = np.linspace(0, 2047, 2048)\n",
    "    Y = sample_spectra[i, :]\n",
    "    \n",
    "    # Fit a guassian to the 511 keV peak\n",
    "    p0 = [511,1, 2000] # Inital guess is a normal distribution\n",
    "    errfunc = lambda p, x, y: gauss(x, p) - y # Distance to the target function\n",
    "    \n",
    "    p1, success = opt.leastsq(errfunc, p0[:], args=(X, Y))\n",
    "    \n",
    "    fit_mu, fit_stdev, fit_height = p1\n",
    "    \n",
    "    FWHM = 2*np.sqrt(2*np.log(2))*fit_stdev\n",
    "    FWHM_511_list.append(FWHM)\n",
    "    plt.plot(gauss(X, p1))\n",
    "\n",
    "    # Fit a guassian to the 1022 peak\n",
    "    p0 = [1022,1, 2000] # Inital guess is a normal distribution\n",
    "    errfunc = lambda p, x, y: gauss(x, p) - y # Distance to the target function\n",
    "    \n",
    "    p1, success = opt.leastsq(errfunc, p0[:], args=(X, Y))\n",
    "    \n",
    "    fit_mu, fit_stdev, fit_height = p1\n",
    "    \n",
    "    FWHM = 2*np.sqrt(2*np.log(2))*fit_stdev\n",
    "    FWHM_1022_list.append(FWHM)\n",
    "    plt.plot(gauss(X, p1))\n",
    "\n",
    "plt.xlabel(\"Channel (keV)\")\n",
    "plt.ylabel(\"Counts\")\n",
    "plt.grid()\n",
    "plt.show()"
   ]
  },
  {
   "cell_type": "code",
   "execution_count": 9,
   "id": "f784e7f5-4184-486f-8339-651ad0fa9336",
   "metadata": {},
   "outputs": [
    {
     "name": "stdout",
     "output_type": "stream",
     "text": [
      "54.11739367081469 +- 0.6751569326997817\n",
      "39.3216609300854 +- 0.2736845499617138\n"
     ]
    }
   ],
   "source": [
    "FWHM_1022 = np.mean(FWHM_1022_list)\n",
    "s_FWHM_1022 = np.std(FWHM_1022_list)\n",
    "\n",
    "FWHM_511 = np.mean(FWHM_511_list)\n",
    "s_FWHM_511 = np.std(FWHM_511_list)\n",
    "\n",
    "print(FWHM_1022, \"+-\", s_FWHM_1022)\n",
    "print(FWHM_511, \"+-\", s_FWHM_511)"
   ]
  },
  {
   "cell_type": "markdown",
   "id": "077a550d-1f58-493e-883f-a63cd4d63827",
   "metadata": {},
   "source": [
    "## 2. Generate the counts of the low-activity data with the new windows\n",
    "1. pick files with low enough activity and move them to the correct subfolder\n",
    "2. use python to find the spectra in these files, then add up the counts in the correct windows (also calculate the 400-600 window to compare)"
   ]
  },
  {
   "cell_type": "code",
   "execution_count": 10,
   "id": "23dfae74-49cf-4532-9a0c-d04c773a4183",
   "metadata": {},
   "outputs": [
    {
     "name": "stdout",
     "output_type": "stream",
     "text": [
      "471 550 967 1076\n"
     ]
    }
   ],
   "source": [
    "# start with one file then i'll make it into a function\n",
    "# NOT THE FINAL VERSION (SEE BELOW)\n",
    "filepath = r\"C:\\Users\\yuliy\\OneDrive\\Documents\\Fall 2023\\Research\\efficiency\\low_activity\\data\\low_activity_files\\HidexAMG-Track_30min-035-20240502-110624-AutoExport.xlsx\"\n",
    "\n",
    "ws = xw.Book(filepath).sheets['Spectra']\n",
    "\n",
    "spectra = ws[\"C20\"].options(np.array, expand='table').value\n",
    "p1_start, p1_end, p2_start, p2_end = int(511 - FWHM_511), int(511 + FWHM_511), int(1022 - FWHM_1022), int(1022 + FWHM_1022) #peak edges\n",
    "counts = np.sum(spectra[:, p1_start:p1_end+1], axis=1) + np.sum(spectra[:, p2_start:p2_end+1], axis=1) # add up the counts in both peaks\n",
    "counts_old = np.sum(spectra[:, 400:601], axis=1) # sanity check, these are the same as the old data\n",
    "\n",
    "print(p1_start, p1_end, p2_start, p2_end)"
   ]
  },
  {
   "cell_type": "markdown",
   "id": "623709e3-fc9a-4f6b-b67d-33c1bc7b4820",
   "metadata": {},
   "source": [
    "### 2.1 Remove background spectra\n",
    "The background counts are not the same in every energy channel. We want to obtain a less noisy background spectrum from 14 background files taken at different times of the day, that we can subtract from the measured spectra from the samples."
   ]
  },
  {
   "cell_type": "code",
   "execution_count": 11,
   "id": "970cc807-d8a8-47cc-99e1-8e0760eeae8b",
   "metadata": {},
   "outputs": [],
   "source": [
    "# note: not using data file HidexAMG-Background Long-016-20230608-121915-AutoExport because it is unusually flat compared to the other ones\n",
    "bg_path = \"./data/backgrounds/\"\n",
    "for _, _, bg_files in os.walk(bg_path): break\n",
    "\n",
    "bg_data = np.zeros((len(bg_files), 2048))\n",
    "\n",
    "excel_app = xw.App(visible=False)\n",
    "\n",
    "i=0\n",
    "for file in bg_files:\n",
    "    if \"~\" in file: continue # disregards temporary files\n",
    "    path = bg_path + file\n",
    "    \n",
    "    # open up the excel sheet with the spectrum\n",
    "    wb = xw.Book(path)\n",
    "    sheet = wb.sheets['Spectra']\n",
    "    spectra = sheet[\"C20\"].options(np.array, expand='table').value\n",
    "    wb.save()\n",
    "    wb.close()\n",
    "    \n",
    "    bg_data[i, :] = spectra/30 # save it in CPM\n",
    "    \n",
    "    plt.plot(spectra/30, \"grey\")\n",
    "\n",
    "    #print(np.sum(spectra[400:601])/30) # sanity check: should be around 42\n",
    "    i+=1\n",
    "\n",
    "excel_app.quit()\n",
    "\n",
    "bg_spectrum = np.mean(bg_data, axis=0)\n",
    "plt.title(\"Background averaging\")\n",
    "plt.ylabel(\"CPM\")\n",
    "plt.plot(bg_spectrum, \"r\")\n",
    "plt.show()\n",
    "\n",
    "np.savetxt('background.txt', bg_spectrum)"
   ]
  },
  {
   "cell_type": "markdown",
   "id": "1ac9b5b8-b1b7-4f97-84f5-5648cf6440ee",
   "metadata": {},
   "source": [
    "### 2.2 Calculate the counts"
   ]
  },
  {
   "cell_type": "code",
   "execution_count": 319,
   "id": "82938e5d-e838-4283-98ac-b67d7413cf6b",
   "metadata": {},
   "outputs": [],
   "source": [
    "def counts(file, peak_options=\"20-10\", remove_background=True):\n",
    "    # argument is the path to the excel file generated by the hidex. There should be a sheet titled Spectra\n",
    "    # the FWHM are defined above\n",
    "    # peak_options = \"FWHM\", \"2FWHM\" or \"20-10\"\n",
    "    path = \"./data/low_activity_files/\" + file\n",
    "    wb = xw.Book(path)\n",
    "    sheet = wb.sheets['Spectra']\n",
    "    spectra = sheet[\"C20\"].options(np.array, expand='table').value\n",
    "    wb.save()\n",
    "    wb.close()\n",
    "\n",
    "    # remove background calculated above\n",
    "    if remove_background:\n",
    "        spectra -= bg_spectrum\n",
    "\n",
    "    if peak_options == \"2FWHM\":\n",
    "        p1_start, p1_end, p2_start, p2_end = int(511 - FWHM_511), int(511 + FWHM_511), int(1022 - FWHM_1022), int(1022 + FWHM_1022) #peak edges\n",
    "    elif peak_options == \"20-10\":\n",
    "        p1_start, p1_end, p2_start, p2_end = 409, 613, 920, 1124 # 20% around main peak, 10% around coincidence peak\n",
    "\n",
    "    elif peak_options == \"optimal\":\n",
    "        p1_start, p1_end, p2_start, p2_end =  389, 634, 1007, 1038 # as calculated below\n",
    "    elif peak_options == \"1FWHM\":\n",
    "        p1_start, p1_end, p2_start, p2_end = int(511 - FWHM_511/2), int(511 + FWHM_511/2), int(1022 - FWHM_1022/2), int(1022 + FWHM_1022/2)\n",
    "    else: return\n",
    "    \n",
    "    counts = np.sum(spectra[:, p1_start:p1_end+1], axis=1) + np.sum(spectra[:, p2_start:p2_end+1], axis=1) # add up the counts in both peaks\n",
    "    counts_old = np.sum(spectra[:, 400:601], axis=1) # sanity check, these are the same as the old data\n",
    "\n",
    "    # also collect the timestamps so that we don't get lost in the sauce\n",
    "    wb = xw.Book(path)\n",
    "    ws = wb.sheets['Results']\n",
    "    timestamps = ws[\"C27:C36\"].options(np.array, dtype='datetime64').value\n",
    "    wb.save()\n",
    "    wb.close()\n",
    "    \n",
    "    return counts, counts_old, timestamps\n",
    "\n",
    "# walk through the folder with the files and collect the counts for all of them\n",
    "for root, dirs, files in os.walk(\"./data/low_activity_files/\"): break"
   ]
  },
  {
   "cell_type": "code",
   "execution_count": 320,
   "id": "e4688410-8261-4ec5-ad1f-922e31f611d0",
   "metadata": {
    "scrolled": true
   },
   "outputs": [
    {
     "name": "stdout",
     "output_type": "stream",
     "text": [
      "HidexAMG-Track_30min-035-20240502-082900-AutoExport.xlsx\n",
      "HidexAMG-Track_30min-035-20240502-084445-AutoExport.xlsx\n",
      "HidexAMG-Track_30min-035-20240502-090029-AutoExport.xlsx\n",
      "HidexAMG-Track_30min-035-20240502-091613-AutoExport.xlsx\n",
      "HidexAMG-Track_30min-035-20240502-093157-AutoExport.xlsx\n",
      "HidexAMG-Track_30min-035-20240502-094742-AutoExport.xlsx\n",
      "HidexAMG-Track_30min-035-20240502-100326-AutoExport.xlsx\n",
      "HidexAMG-Track_30min-035-20240502-101910-AutoExport.xlsx\n",
      "HidexAMG-Track_30min-035-20240502-103454-AutoExport.xlsx\n",
      "HidexAMG-Track_30min-035-20240502-105040-AutoExport.xlsx\n",
      "HidexAMG-Track_30min-035-20240502-110624-AutoExport.xlsx\n",
      "HidexAMG-Track_30min-035-20240502-112209-AutoExport.xlsx\n",
      "HidexAMG-Track_30min-035-20240502-113753-AutoExport.xlsx\n",
      "HidexAMG-Track_30min-035-20240502-115338-AutoExport.xlsx\n",
      "HidexAMG-Track_30min-035-20240502-120922-AutoExport.xlsx\n",
      "HidexAMG-Track_30min-035-20240502-122509-AutoExport.xlsx\n",
      "HidexAMG-Track_30min-035-20240502-124055-AutoExport.xlsx\n",
      "HidexAMG-Track_30min-035-20240502-125644-AutoExport.xlsx\n",
      "HidexAMG-Track_30min-035-20240502-131231-AutoExport.xlsx\n",
      "HidexAMG-Track_30min-035-20240502-132819-AutoExport.xlsx\n",
      "HidexAMG-Track_30min-035-20240502-134409-AutoExport.xlsx\n",
      "HidexAMG-Track_30min-035-20240502-135958-AutoExport.xlsx\n",
      "HidexAMG-Track_30min-035-20240502-141608-AutoExport.xlsx\n",
      "HidexAMG-Track_30min-035-20240502-143157-AutoExport.xlsx\n",
      "HidexAMG-Track_30min-035-20240502-144748-AutoExport.xlsx\n",
      "HidexAMG-Track_30min-035-20240502-150340-AutoExport.xlsx\n",
      "HidexAMG-Track_30min-035-20240502-151932-AutoExport.xlsx\n",
      "HidexAMG-Track_30min-035-20240502-153522-AutoExport.xlsx\n",
      "HidexAMG-Track_30min-035-20240502-155113-AutoExport.xlsx\n",
      "HidexAMG-Track_30min-035-20240502-160703-AutoExport.xlsx\n",
      "HidexAMG-Track_30min-035-20240502-162253-AutoExport.xlsx\n",
      "Done.\n"
     ]
    }
   ],
   "source": [
    "excel_app = xw.App(visible=False)\n",
    "\n",
    "counts_list = []\n",
    "counts_2fwhm_list = []\n",
    "counts_1fwhm_list = []\n",
    "old_counts_list = []\n",
    "timestamps_list = []\n",
    "counts_opt_list= []\n",
    "\n",
    "for f in files:\n",
    "    if \"~\" in f: continue # disregards temporary files\n",
    "    print(f)\n",
    "    \n",
    "    c, c_old, t = counts(f)\n",
    "    c_2fwhm, _, _ = counts(f, peak_options=\"2FWHM\") \n",
    "    c_fwhm, _, _ = counts(f, peak_options=\"1FWHM\") \n",
    "    c_opt, _, _ = counts(f, peak_options=\"optimal\") \n",
    "    # TODO: implement this directly into the function since opening/closing excel files takes a long time\n",
    "    \n",
    "    counts_list.extend(c.tolist())\n",
    "    counts_opt_list.extend(c_opt.tolist())\n",
    "    counts_2fwhm_list.extend(c_2fwhm.tolist())\n",
    "    counts_1fwhm_list.extend(c_fwhm.tolist())\n",
    "    timestamps_list.extend(t)\n",
    "    old_counts_list.extend(c_old.tolist())\n",
    "\n",
    "print(\"Done.\")\n",
    "excel_app.quit()"
   ]
  },
  {
   "cell_type": "markdown",
   "id": "7652a58b-1f9f-41cc-a1b8-ac6d557908fa",
   "metadata": {},
   "source": [
    "## 3. Checking if the noise is reduced\n",
    "Finally, we want to compare if there is a difference in the noise between the two methods (400-600 window or two peaks windows)"
   ]
  },
  {
   "cell_type": "code",
   "execution_count": 321,
   "id": "adc6a65e-d71e-46a0-93cb-48966a8c1031",
   "metadata": {},
   "outputs": [],
   "source": [
    "# Sanity check: plot the old vs the new counts\n",
    "plt.plot(timestamps_list, old_counts_list, \".\", label=\"400-600 keV window\")\n",
    "plt.plot(timestamps_list, counts_list, \".\", label=\"Two peaks, 20%-10% windows\")\n",
    "plt.plot(timestamps_list, counts_2fwhm_list, \".\", label=\"Two peaks, 2 FWHM\")\n",
    "plt.ylabel(\"CPM\")\n",
    "plt.xlabel(\"timestamp\")\n",
    "plt.yscale(\"log\")\n",
    "plt.grid()\n",
    "plt.legend()\n",
    "plt.show()"
   ]
  },
  {
   "cell_type": "code",
   "execution_count": 325,
   "id": "66a93d96-4c50-4c1a-a98e-7ecf46fc892e",
   "metadata": {
    "scrolled": true
   },
   "outputs": [
    {
     "name": "stdout",
     "output_type": "stream",
     "text": [
      "0.9954611677827839\n",
      "0.997678239500497\n",
      "0.9981095800029982\n",
      "0.9952707223516475\n",
      "0.9979671228599021\n",
      "0.9989345872345392\n",
      "0.999049690777638\n",
      "0.9985008623730792\n",
      "0.9987502370039555\n",
      "0.9993449942982765\n",
      "\n",
      "0.9971679156133104\n",
      "0.9981073694875202\n",
      "0.9980114713257681\n",
      "0.9963210124163535\n",
      "0.9977682170101103\n",
      "0.9989982556313933\n",
      "0.9990199949928253\n",
      "0.9986117173310716\n",
      "0.9990412088509322\n",
      "0.9994437243768037\n",
      "\n",
      "0.9953670331986866\n",
      "0.9985604568193478\n",
      "0.9980906651670708\n",
      "0.9946405768823385\n",
      "0.9977633266383663\n",
      "0.9987994885403814\n",
      "0.9991527922538346\n",
      "0.9985236420245028\n",
      "0.999348669248496\n",
      "0.9994166436597706\n",
      "\n",
      "0.9951174511504445\n",
      "0.9980593999424948\n",
      "0.998522092418439\n",
      "0.9957142870126072\n",
      "0.9972891030799208\n",
      "0.998911716236857\n",
      "0.9989831360658483\n",
      "0.9987166396217567\n",
      "0.9992449589465527\n",
      "0.9995598094486665\n",
      "\n",
      "0.9949088557729504\n",
      "0.9977276450148542\n",
      "0.9968626795264035\n",
      "0.9941916428060016\n",
      "0.9970700262073903\n",
      "0.9973555554941482\n",
      "0.9985189910710028\n",
      "0.998511278477066\n",
      "0.9993211558100767\n",
      "0.9989878777279052\n"
     ]
    }
   ],
   "source": [
    "# pablo wants to fit linear functions to the log-scaled data, and compare the r-squared\n",
    "# need to separate individual vials for this\n",
    "timestamps = np.array(timestamps_list).astype('datetime64[s]').astype('int') - timestamps_list[0].astype('datetime64[s]').astype('int')\n",
    "\n",
    "\n",
    "\n",
    "r2_old = []\n",
    "r2_2fwhm = []\n",
    "r2_2010 = []\n",
    "r2_1fwhm = []\n",
    "r2_opt = []\n",
    "\n",
    "for i in range(0, n):\n",
    "    x = timestamps[i::n]\n",
    "    y = np.log(old_counts_list[i::n])\n",
    "    slope, intercept, r_value, p_value, std_err = scipy.stats.linregress(x, y)\n",
    "    print(r_value**2)\n",
    "    r2_old.append(r_value**2)\n",
    "\n",
    "print()\n",
    "\n",
    "for i in range(0, n):\n",
    "    x = timestamps[i::n]\n",
    "    y = np.log(counts_opt_list[i::n])\n",
    "    slope, intercept, r_value, p_value, std_err = scipy.stats.linregress(x, y)\n",
    "    print(r_value**2)\n",
    "    r2_opt.append(r_value**2)\n",
    "\n",
    "print()\n",
    "for i in range(0, n):\n",
    "    x = timestamps[i::n]\n",
    "    y = np.log(counts_2fwhm_list[i::n])\n",
    "    slope, intercept, r_value, p_value, std_err = scipy.stats.linregress(x, y)\n",
    "    print(r_value**2)\n",
    "    r2_2fwhm.append(r_value**2)\n",
    "\n",
    "print()\n",
    "for i in range(0, n):\n",
    "    x = timestamps[i::n]\n",
    "    y = np.log(counts_list[i::n])\n",
    "    slope, intercept, r_value, p_value, std_err = scipy.stats.linregress(x, y)\n",
    "    print(r_value**2)\n",
    "    r2_2010.append(r_value**2)\n",
    "\n",
    "print()\n",
    "for i in range(0, n):\n",
    "    x = timestamps[i::n]\n",
    "    y = np.log(counts_1fwhm_list[i::n])\n",
    "    slope, intercept, r_value, p_value, std_err = scipy.stats.linregress(x, y)\n",
    "    print(r_value**2)\n",
    "    r2_1fwhm.append(r_value**2)"
   ]
  },
  {
   "cell_type": "code",
   "execution_count": 330,
   "id": "467eebc7-72ff-408e-9179-e9898e774949",
   "metadata": {},
   "outputs": [
    {
     "name": "stdout",
     "output_type": "stream",
     "text": [
      "400-600 keV window: 0.9979067204185317\n",
      "Two peaks, 2 FWHM: 0.9979663294432795\n",
      "Two peaks, 1 FWHM: 0.9973455707907799\n",
      "Two peaks, 20%-10% windows: 0.9980118593923588\n",
      "Best: 0.998249088703609\n"
     ]
    }
   ],
   "source": [
    "vials = np.linspace(1, 10, 10)\n",
    "plt.plot(vials, r2_old, \".\", label=\"400-600 keV window\")\n",
    "#plt.plot(vials, r2_2fwhm, \".\", label=\"Two peaks, 2 FWHM\")\n",
    "#plt.plot(vials, r2_1fwhm, \".\", label=\"Two peaks, 1 FWHM\")\n",
    "plt.plot(vials, r2_2010, \".\", label=\"Two peaks, 20%-10% windows\")\n",
    "plt.plot(vials, r2_opt, \"k+\", label=\"Optimal\")\n",
    "plt.legend()\n",
    "plt.xlabel(\"Vial\")\n",
    "plt.ylabel(\"R$^2$ value of linear fit\")\n",
    "plt.grid()\n",
    "plt.show()\n",
    "\n",
    "print(\"400-600 keV window:\", np.mean(r2_old))\n",
    "print(\"Two peaks, 2 FWHM:\", np.mean(r2_2fwhm))\n",
    "print(\"Two peaks, 1 FWHM:\", np.mean(r2_1fwhm))\n",
    "print(\"Two peaks, 20%-10% windows:\", np.mean(r2_2010))\n",
    "print(\"Best:\", np.mean(r2_opt))"
   ]
  },
  {
   "cell_type": "markdown",
   "id": "10b8a551-ca85-4a7f-b867-e127481f0254",
   "metadata": {},
   "source": [
    "# Optimizing like grownups\n",
    "In this section, I want to properly optimize the energy windows of both peaks such that the r$^2$ value is as close to 1 as possible. "
   ]
  },
  {
   "cell_type": "markdown",
   "id": "1ffe3689-988d-4d4f-a328-82c1f5eb10c5",
   "metadata": {},
   "source": [
    "## 4.1 Extract spectra from all files and put them in one file/array\n",
    "Also the timestamps at the same time."
   ]
  },
  {
   "cell_type": "code",
   "execution_count": 265,
   "id": "3f032e9b-c731-44c1-b70a-d5c8ac5acca8",
   "metadata": {
    "scrolled": true
   },
   "outputs": [
    {
     "name": "stdout",
     "output_type": "stream",
     "text": [
      "HidexAMG-Track_30min-035-20240502-082900-AutoExport.xlsx\n",
      "HidexAMG-Track_30min-035-20240502-084445-AutoExport.xlsx\n",
      "HidexAMG-Track_30min-035-20240502-090029-AutoExport.xlsx\n",
      "HidexAMG-Track_30min-035-20240502-091613-AutoExport.xlsx\n",
      "HidexAMG-Track_30min-035-20240502-093157-AutoExport.xlsx\n",
      "HidexAMG-Track_30min-035-20240502-094742-AutoExport.xlsx\n",
      "HidexAMG-Track_30min-035-20240502-100326-AutoExport.xlsx\n",
      "HidexAMG-Track_30min-035-20240502-101910-AutoExport.xlsx\n",
      "HidexAMG-Track_30min-035-20240502-103454-AutoExport.xlsx\n",
      "HidexAMG-Track_30min-035-20240502-105040-AutoExport.xlsx\n",
      "HidexAMG-Track_30min-035-20240502-110624-AutoExport.xlsx\n",
      "HidexAMG-Track_30min-035-20240502-112209-AutoExport.xlsx\n",
      "HidexAMG-Track_30min-035-20240502-113753-AutoExport.xlsx\n",
      "HidexAMG-Track_30min-035-20240502-115338-AutoExport.xlsx\n",
      "HidexAMG-Track_30min-035-20240502-120922-AutoExport.xlsx\n",
      "HidexAMG-Track_30min-035-20240502-122509-AutoExport.xlsx\n",
      "HidexAMG-Track_30min-035-20240502-124055-AutoExport.xlsx\n",
      "HidexAMG-Track_30min-035-20240502-125644-AutoExport.xlsx\n",
      "HidexAMG-Track_30min-035-20240502-131231-AutoExport.xlsx\n",
      "HidexAMG-Track_30min-035-20240502-132819-AutoExport.xlsx\n",
      "HidexAMG-Track_30min-035-20240502-134409-AutoExport.xlsx\n",
      "HidexAMG-Track_30min-035-20240502-135958-AutoExport.xlsx\n",
      "HidexAMG-Track_30min-035-20240502-141608-AutoExport.xlsx\n",
      "HidexAMG-Track_30min-035-20240502-143157-AutoExport.xlsx\n",
      "HidexAMG-Track_30min-035-20240502-144748-AutoExport.xlsx\n",
      "HidexAMG-Track_30min-035-20240502-150340-AutoExport.xlsx\n",
      "HidexAMG-Track_30min-035-20240502-151932-AutoExport.xlsx\n",
      "HidexAMG-Track_30min-035-20240502-153522-AutoExport.xlsx\n",
      "HidexAMG-Track_30min-035-20240502-155113-AutoExport.xlsx\n",
      "HidexAMG-Track_30min-035-20240502-160703-AutoExport.xlsx\n",
      "HidexAMG-Track_30min-035-20240502-162253-AutoExport.xlsx\n",
      "Done.\n",
      "Sanity check: Any NaNs in the spectra array? False\n",
      "Sanity check: Any NaNs in the timestamps array? False\n"
     ]
    }
   ],
   "source": [
    "# walk through the folder with the files and collect the spectra\n",
    "for _, _, files in os.walk(\"./data/low_activity_files/\"): break\n",
    "files = list(filter(lambda k: '~' not in k, files)) # remove temporary files to ensure size allocation is correct for spectra and timestamps\n",
    "\n",
    "excel_app = xw.App(visible=False)\n",
    "\n",
    "spectra = np.empty(shape=(len(files)*n, 2048)) # size: number of total runs (files x vials) by number of energy channels\n",
    "spectra.fill(np.nan)\n",
    "\n",
    "timestamps = np.empty(shape=(len(files)*n))\n",
    "timestamps.fill(np.nan)\n",
    "\n",
    "i = 0\n",
    "for f in files:\n",
    "    #if \"~\" in f: continue # disregards temporary files\n",
    "    print(f)\n",
    "    \n",
    "    # extract the correct spectra from the file\n",
    "    path = \"./data/low_activity_files/\" + f\n",
    "    wb = xw.Book(path)\n",
    "    sheet = wb.sheets['Spectra']\n",
    "    s = sheet[\"C20\"].options(np.array, expand='table').value\n",
    "    \n",
    "    # save the spectra to the array\n",
    "    spectra[i*n:(i*n)+n, :] = s\n",
    "\n",
    "    # extract the timestamps\n",
    "    ws = wb.sheets['Results']\n",
    "    t = ws[\"C27:C36\"].options(np.array, dtype='datetime64').value\n",
    "\n",
    "    # save the timestamps to an array\n",
    "    timestamps[i*n:(i*n)+n] = t\n",
    "    \n",
    "    wb.save()\n",
    "    wb.close()\n",
    "\n",
    "    \n",
    "    i += 1\n",
    "\n",
    "print(\"Done.\")\n",
    "print(\"Sanity check: Any NaNs in the spectra array?\", np.isnan(np.sum(spectra)))\n",
    "print(\"Sanity check: Any NaNs in the timestamps array?\", np.isnan(np.sum(timestamps)))\n",
    "excel_app.quit()\n",
    "\n",
    "# remove background from all spectra\n",
    "spectra -= bg_spectrum\n",
    "\n",
    "# start the clock at 0\n",
    "timestamps -= timestamps[0]"
   ]
  },
  {
   "cell_type": "markdown",
   "id": "5d299b1e-647a-4233-a139-e16a72b9f3a5",
   "metadata": {
    "scrolled": true
   },
   "source": [
    "## 4.2 Visual sanity check: calculate r$^2$ with respect to various window widths\n",
    "Steps:\n",
    "1. Make a mesh of window widths (for the 1st and 2nd peak)\n",
    "2. Calculate the corresponding energy channel bounds\n",
    "3. Using the bounds calculated above, pass them to the counts function "
   ]
  },
  {
   "cell_type": "code",
   "execution_count": 302,
   "id": "9af5a8ad-e031-4492-94b0-f8ce0fe1ae86",
   "metadata": {},
   "outputs": [],
   "source": [
    "# Peak half-widths (K1 is the 511 peak, K2 is the 1022 peak)\n",
    "K1 = (np.arange(180, 281, 2)).astype('int32')\n",
    "K2 = (np.arange(20, 121, 2)).astype('int32')"
   ]
  },
  {
   "cell_type": "code",
   "execution_count": 303,
   "id": "88ccffe0-4c5b-407c-a741-fed3431871f2",
   "metadata": {},
   "outputs": [
    {
     "name": "stdout",
     "output_type": "stream",
     "text": [
      "Sanity check: Any NaNs in the counts array? False\n"
     ]
    }
   ],
   "source": [
    "def counts_custom_widths(spect, first_peak_widths, second_peak_widths):\n",
    "    # a different implementation where the input is a file of all the spectra we want. this should already be background-subtracted\n",
    "    # shape: n runs x 2048 channels\n",
    "    \n",
    "    # first_peak_widths: np array containing the widths of the 511 kev peak\n",
    "    # second_peak_widths: np array containing the widths of the 1022 kev peak\n",
    "\n",
    "    # this function meant for quicker calculation of the counts for various peak widths\n",
    "    \n",
    "    first_peak_widths = (first_peak_widths/2).astype('int32') # calculate half-widths\n",
    "    second_peak_widths = (second_peak_widths/2).astype('int32')\n",
    "\n",
    "    counts = np.empty(shape=(len(first_peak_widths), len(second_peak_widths), np.shape(spect)[0])) # shape: size of K1 x size of K2 x n runs\n",
    "    counts.fill(np.nan)\n",
    "\n",
    "    for i, W1 in enumerate(first_peak_widths):\n",
    "        for j, W2 in enumerate(second_peak_widths):\n",
    "            ## 1. calculate the peak edges for all desired widths\n",
    "            p1_start, p1_end, p2_start, p2_end = 511 - W1, 511 + W1, 1022 - W2, 1022 + W2\n",
    "\n",
    "            ## 2. calculate the corresponding counts\n",
    "            c = np.sum(spect[:, p1_start:p1_end+1], axis=1) + np.sum(spectra[:, p2_start:p2_end+1], axis=1) # add up the counts in both peaks\n",
    "            counts[i, j, :] = c\n",
    "            \n",
    "    \n",
    "    counts_old = np.sum(spect[:, 400:601], axis=1) # sanity check, these are the same as the old data\n",
    "    print(\"Sanity check: Any NaNs in the counts array?\", np.isnan(np.sum(counts)))\n",
    "    return counts, counts_old\n",
    "\n",
    "r, _ = counts_custom_widths(spectra, K1, K2) # r has shape: lenght of K1 x length of K2 x number of data runs (310)"
   ]
  },
  {
   "cell_type": "code",
   "execution_count": 304,
   "id": "cd672879-a2f5-45a2-a4b3-e06a246bf89d",
   "metadata": {},
   "outputs": [],
   "source": [
    "# We have the counts for a range of peak widths for both peaks. Time to find the R2 values for each vial and average them\n",
    "r_squared_full = np.empty(shape=(n, len(K1), len(K2)))\n",
    "r_squared_full.fill(np.nan)\n",
    "\n",
    "for i in range(0, n):\n",
    "    for j, W1 in enumerate(K1):\n",
    "        for k, W2 in enumerate(K2):\n",
    "            x = timestamps[i::n]\n",
    "            y = np.log(r[j, k, i::n])\n",
    "\n",
    "            slope, intercept, r_value, p_value, std_err = scipy.stats.linregress(x, y)\n",
    "            r_squared_full[i,j,k] = r_value**2\n",
    "\n",
    "r_squared = np.mean(r_squared_full, axis=0)"
   ]
  },
  {
   "cell_type": "code",
   "execution_count": 12,
   "id": "f0f8b0f5-fcd8-4c8d-9d1e-02ef62098039",
   "metadata": {},
   "outputs": [
    {
     "ename": "NameError",
     "evalue": "name 'r_squared' is not defined",
     "output_type": "error",
     "traceback": [
      "\u001b[1;31m---------------------------------------------------------------------------\u001b[0m",
      "\u001b[1;31mNameError\u001b[0m                                 Traceback (most recent call last)",
      "Cell \u001b[1;32mIn[12], line 2\u001b[0m\n\u001b[0;32m      1\u001b[0m \u001b[38;5;66;03m# find minimum of r2\u001b[39;00m\n\u001b[1;32m----> 2\u001b[0m k2_min \u001b[38;5;241m=\u001b[39m np\u001b[38;5;241m.\u001b[39mwhere(\u001b[43mr_squared\u001b[49m \u001b[38;5;241m==\u001b[39m r_squared\u001b[38;5;241m.\u001b[39mmax())[\u001b[38;5;241m0\u001b[39m]\n\u001b[0;32m      3\u001b[0m k1_min \u001b[38;5;241m=\u001b[39m np\u001b[38;5;241m.\u001b[39mwhere(r_squared \u001b[38;5;241m==\u001b[39m r_squared\u001b[38;5;241m.\u001b[39mmax())[\u001b[38;5;241m1\u001b[39m]\n\u001b[0;32m      5\u001b[0m ax \u001b[38;5;241m=\u001b[39m sns\u001b[38;5;241m.\u001b[39mheatmap(r_squared, xticklabels\u001b[38;5;241m=\u001b[39mK2, yticklabels\u001b[38;5;241m=\u001b[39mK1)\n",
      "\u001b[1;31mNameError\u001b[0m: name 'r_squared' is not defined"
     ]
    }
   ],
   "source": [
    "# find minimum of r2\n",
    "k2_min = np.where(r_squared == r_squared.max())[0]\n",
    "k1_min = np.where(r_squared == r_squared.max())[1]\n",
    "\n",
    "ax = sns.heatmap(r_squared, xticklabels=K2, yticklabels=K1)\n",
    "ax.set(xlabel=\"1022 keV peak width\", ylabel=\"511 keV peak width\", title=\"Optimising r$^2$ based on energy window widths\")\n",
    "plt.plot(k1_min, k2_min, \"k+\")\n",
    "plt.show()"
   ]
  },
  {
   "cell_type": "markdown",
   "id": "0df0c2a3-d061-4563-bd5a-d0a4b8da28cb",
   "metadata": {},
   "source": [
    "It looks like the best windows are K1 = 245 keV and K2 = 31 keV"
   ]
  },
  {
   "cell_type": "code",
   "execution_count": null,
   "id": "6de258a3-6d68-4cfe-8550-ae13eafd39a9",
   "metadata": {},
   "outputs": [],
   "source": []
  }
 ],
 "metadata": {
  "kernelspec": {
   "display_name": "Python 3 (ipykernel)",
   "language": "python",
   "name": "python3"
  },
  "language_info": {
   "codemirror_mode": {
    "name": "ipython",
    "version": 3
   },
   "file_extension": ".py",
   "mimetype": "text/x-python",
   "name": "python",
   "nbconvert_exporter": "python",
   "pygments_lexer": "ipython3",
   "version": "3.12.0"
  }
 },
 "nbformat": 4,
 "nbformat_minor": 5
}
