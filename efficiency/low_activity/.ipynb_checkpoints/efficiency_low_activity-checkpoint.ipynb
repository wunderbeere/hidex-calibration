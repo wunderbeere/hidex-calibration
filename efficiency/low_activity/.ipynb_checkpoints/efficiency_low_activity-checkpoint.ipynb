{
 "cells": [
  {
   "cell_type": "code",
   "execution_count": 93,
   "id": "e1f7e378-9032-4845-973f-24e6bc3fee5e",
   "metadata": {},
   "outputs": [],
   "source": [
    "import numpy as np\n",
    "import pandas as pd\n",
    "import matplotlib\n",
    "matplotlib.use('TkAgg')\n",
    "import matplotlib.pyplot as plt\n",
    "plt.close('all')\n",
    "import scipy.optimize as opt\n",
    "import scipy\n",
    "\n",
    "import xlwings as xw\n",
    "import os"
   ]
  },
  {
   "cell_type": "markdown",
   "id": "cc0bb625-3a5f-4ef5-a5e6-b1f07f411b92",
   "metadata": {},
   "source": [
    "# Efficiency at low activities (<0.05 $\\mu$Ci)\n",
    "\n",
    "Looking to investigate the efficiency of the Hidex at low activities, so need to reduce the noise in the measurements. To do this:\n",
    "1. Find an appropriate activity (low noise) to measure the FWHM of both peaks (511 keV and 1022 keV)\n",
    "2. Reprocess all data from set 4 that is <0.1 $\\mu$Ci and extract counts for both peaks +- FWHM\n",
    "3. Pass the above counts to the efficiency script"
   ]
  },
  {
   "cell_type": "markdown",
   "id": "f9ce3c3d-2733-4109-a141-19c29231db15",
   "metadata": {},
   "source": [
    "## 1. Find the FWHM of both peaks"
   ]
  },
  {
   "cell_type": "code",
   "execution_count": 94,
   "id": "123c25aa-1b78-4bc9-bc4d-eacfe2f4235e",
   "metadata": {},
   "outputs": [],
   "source": [
    "# get the data from Excel (NOTE: the original files aren't well-formatted so i had to extract \n",
    "# the spectra by hand. However for step 2 I will need to work directly with the Excel files so this is a problem for later.)\n",
    "\n",
    "f = open(\"./data/HidexAMG-Track_30min-035-20240502-013749-AutoExport_SPECTRA.xlsx\", \"rb\")\n",
    "sample_spectra = pd.read_excel(f,\n",
    "                               engine='openpyxl')\n",
    "f.close()\n",
    "\n",
    "sample_spectra = sample_spectra.to_numpy()[:, 2:] #ignores the rack and vial numbers"
   ]
  },
  {
   "cell_type": "code",
   "execution_count": 95,
   "id": "4f7c787e-b1fb-45d0-bada-0b190cd62b4d",
   "metadata": {},
   "outputs": [],
   "source": [
    "def gauss(x, p): # p[0]==mean, p[1]==stdev, p[2]==normalization factor\n",
    "    return p[2]*np.exp(-(x-p[0])**2/(2*p[1]**2))\n",
    "\n",
    "FWHM_511_list = []\n",
    "FWHM_1022_list = []\n",
    "\n",
    "for i in range(0,10):\n",
    "    plt.plot(sample_spectra[i, :])\n",
    "\n",
    "    X = np.linspace(0, 2047, 2048)\n",
    "    Y = sample_spectra[i, :]\n",
    "    \n",
    "    # Fit a guassian to the 511 keV peak\n",
    "    p0 = [511,1, 2000] # Inital guess is a normal distribution\n",
    "    errfunc = lambda p, x, y: gauss(x, p) - y # Distance to the target function\n",
    "    \n",
    "    p1, success = opt.leastsq(errfunc, p0[:], args=(X, Y))\n",
    "    \n",
    "    fit_mu, fit_stdev, fit_height = p1\n",
    "    \n",
    "    FWHM = 2*np.sqrt(2*np.log(2))*fit_stdev\n",
    "    FWHM_511_list.append(FWHM)\n",
    "    plt.plot(gauss(X, p1))\n",
    "\n",
    "    # Fit a guassian to the 1022 peak\n",
    "    p0 = [1022,1, 2000] # Inital guess is a normal distribution\n",
    "    errfunc = lambda p, x, y: gauss(x, p) - y # Distance to the target function\n",
    "    \n",
    "    p1, success = opt.leastsq(errfunc, p0[:], args=(X, Y))\n",
    "    \n",
    "    fit_mu, fit_stdev, fit_height = p1\n",
    "    \n",
    "    FWHM = 2*np.sqrt(2*np.log(2))*fit_stdev\n",
    "    FWHM_1022_list.append(FWHM)\n",
    "    plt.plot(gauss(X, p1))\n",
    "\n",
    "plt.xlabel(\"Channel (keV)\")\n",
    "plt.ylabel(\"Counts\")\n",
    "plt.grid()\n",
    "plt.show()"
   ]
  },
  {
   "cell_type": "code",
   "execution_count": 96,
   "id": "f784e7f5-4184-486f-8339-651ad0fa9336",
   "metadata": {},
   "outputs": [
    {
     "name": "stdout",
     "output_type": "stream",
     "text": [
      "54.11739367081469 +- 0.6751569326997817\n",
      "39.3216609300854 +- 0.2736845499617138\n"
     ]
    }
   ],
   "source": [
    "FWHM_1022 = np.mean(FWHM_1022_list)\n",
    "s_FWHM_1022 = np.std(FWHM_1022_list)\n",
    "\n",
    "FWHM_511 = np.mean(FWHM_511_list)\n",
    "s_FWHM_511 = np.std(FWHM_511_list)\n",
    "\n",
    "print(FWHM_1022, \"+-\", s_FWHM_1022)\n",
    "print(FWHM_511, \"+-\", s_FWHM_511)"
   ]
  },
  {
   "cell_type": "markdown",
   "id": "077a550d-1f58-493e-883f-a63cd4d63827",
   "metadata": {},
   "source": [
    "## 2. Generate the counts of the low-activity data with the new windows\n",
    "1. pick files with low enough activity and move them to the correct subfolder\n",
    "2. use python to find the spectra in these files, then add up the counts in the correct windows (also calculate the 400-600 window to compare)"
   ]
  },
  {
   "cell_type": "code",
   "execution_count": 128,
   "id": "23dfae74-49cf-4532-9a0c-d04c773a4183",
   "metadata": {},
   "outputs": [
    {
     "name": "stdout",
     "output_type": "stream",
     "text": [
      "471 550 967 1076\n"
     ]
    }
   ],
   "source": [
    "# start with one file then i'll make it into a function\n",
    "# NOT THE FINAL VERSION (SEE BELOW)\n",
    "filepath = r\"C:\\Users\\yuliy\\OneDrive\\Documents\\Fall 2023\\Research\\efficiency\\low_activity\\data\\low_activity_files\\HidexAMG-Track_30min-035-20240502-110624-AutoExport.xlsx\"\n",
    "\n",
    "ws = xw.Book(filepath).sheets['Spectra']\n",
    "\n",
    "spectra = ws[\"C20\"].options(np.array, expand='table').value\n",
    "p1_start, p1_end, p2_start, p2_end = int(511 - FWHM_511), int(511 + FWHM_511), int(1022 - FWHM_1022), int(1022 + FWHM_1022) #peak edges\n",
    "counts = np.sum(spectra[:, p1_start:p1_end+1], axis=1) + np.sum(spectra[:, p2_start:p2_end+1], axis=1) # add up the counts in both peaks\n",
    "counts_old = np.sum(spectra[:, 400:601], axis=1) # sanity check, these are the same as the old data\n",
    "\n",
    "print(p1_start, p1_end, p2_start, p2_end)"
   ]
  },
  {
   "cell_type": "markdown",
   "id": "623709e3-fc9a-4f6b-b67d-33c1bc7b4820",
   "metadata": {},
   "source": [
    "## 2.1 Remove background spectra\n",
    "The background counts are not the same in every energy channel. We want to obtain a less noisy background spectrum from 14 background files taken at different times of the day, that we can subtract from the measured spectra from the samples."
   ]
  },
  {
   "cell_type": "code",
   "execution_count": 147,
   "id": "970cc807-d8a8-47cc-99e1-8e0760eeae8b",
   "metadata": {},
   "outputs": [],
   "source": [
    "# note: not using data file HidexAMG-Background Long-016-20230608-121915-AutoExport because it is unusually flat compared to the other ones\n",
    "bg_path = \"./data/backgrounds/\"\n",
    "for _, _, bg_files in os.walk(bg_path): break\n",
    "\n",
    "bg_data = np.zeros((len(bg_files), 2048))\n",
    "\n",
    "excel_app = xw.App(visible=False)\n",
    "\n",
    "i=0\n",
    "for file in bg_files:\n",
    "    if \"~\" in f: continue # disregards temporary files\n",
    "    path = bg_path + file\n",
    "    \n",
    "    # open up the excel sheet with the spectrum\n",
    "    wb = xw.Book(path)\n",
    "    sheet = wb.sheets['Spectra']\n",
    "    spectra = sheet[\"C20\"].options(np.array, expand='table').value\n",
    "    wb.save()\n",
    "    wb.close()\n",
    "    \n",
    "    bg_data[i, :] = spectra/30 # save it in CPM\n",
    "    \n",
    "    plt.plot(spectra/30, \"grey\")\n",
    "\n",
    "    #print(np.sum(spectra[400:601])/30) # sanity check: should be around 42\n",
    "    i+=1\n",
    "\n",
    "excel_app.quit()\n",
    "\n",
    "bg_spectrum = np.mean(bg_data, axis=0)\n",
    "plt.title(\"Background averaging\")\n",
    "plt.ylabel(\"CPM\")\n",
    "plt.plot(bg_spectrum, \"r\")\n",
    "plt.show()"
   ]
  },
  {
   "cell_type": "markdown",
   "id": "1ac9b5b8-b1b7-4f97-84f5-5648cf6440ee",
   "metadata": {},
   "source": [
    "## 2.2 Calculate the counts"
   ]
  },
  {
   "cell_type": "code",
   "execution_count": 148,
   "id": "82938e5d-e838-4283-98ac-b67d7413cf6b",
   "metadata": {},
   "outputs": [],
   "source": [
    "def counts(file, peak_options=\"20-10\", remove_background=True):\n",
    "    # argument is the path to the excel file generated by the hidex. There should be a sheet titled Spectra\n",
    "    # the FWHM are defined above\n",
    "    # peak_options = \"FWHM\", \"2FWHM\" or \"20-10\"\n",
    "    path = \"./data/low_activity_files/\" + file\n",
    "    wb = xw.Book(path)\n",
    "    sheet = wb.sheets['Spectra']\n",
    "    spectra = sheet[\"C20\"].options(np.array, expand='table').value\n",
    "    wb.save()\n",
    "    wb.close()\n",
    "\n",
    "    # remove background calculated above\n",
    "    if remove_background:\n",
    "        spectra -= bg_spectrum\n",
    "\n",
    "    if peak_options == \"2FWHM\":\n",
    "        p1_start, p1_end, p2_start, p2_end = int(511 - FWHM_511), int(511 + FWHM_511), int(1022 - FWHM_1022), int(1022 + FWHM_1022) #peak edges\n",
    "    elif peak_options == \"20-10\":\n",
    "        p1_start, p1_end, p2_start, p2_end = 409, 613, 920, 1124 # 20% around main peak, 10% around coincidence peak\n",
    "    elif peak_options == \"1FWHM\":\n",
    "        p1_start, p1_end, p2_start, p2_end = int(511 - FWHM_511/2), int(511 + FWHM_511/2), int(1022 - FWHM_1022/2), int(1022 + FWHM_1022/2)\n",
    "    else: return\n",
    "    \n",
    "    counts = np.sum(spectra[:, p1_start:p1_end+1], axis=1) + np.sum(spectra[:, p2_start:p2_end+1], axis=1) # add up the counts in both peaks\n",
    "    counts_old = np.sum(spectra[:, 400:601], axis=1) # sanity check, these are the same as the old data\n",
    "\n",
    "    # also collect the timestamps so that we don't get lost in the sauce\n",
    "    wb = xw.Book(path)\n",
    "    ws = wb.sheets['Results']\n",
    "    timestamps = ws[\"C27:C36\"].options(np.array, dtype='datetime64').value\n",
    "    wb.save()\n",
    "    wb.close()\n",
    "    \n",
    "    return counts, counts_old, timestamps\n",
    "\n",
    "# walk through the folder with the files and collect the counts for all of them\n",
    "for root, dirs, files in os.walk(\"./data/low_activity_files/\"): break"
   ]
  },
  {
   "cell_type": "code",
   "execution_count": 149,
   "id": "e4688410-8261-4ec5-ad1f-922e31f611d0",
   "metadata": {
    "scrolled": true
   },
   "outputs": [
    {
     "name": "stdout",
     "output_type": "stream",
     "text": [
      "HidexAMG-Track_30min-035-20240502-082900-AutoExport.xlsx\n",
      "HidexAMG-Track_30min-035-20240502-084445-AutoExport.xlsx\n",
      "HidexAMG-Track_30min-035-20240502-090029-AutoExport.xlsx\n",
      "HidexAMG-Track_30min-035-20240502-091613-AutoExport.xlsx\n",
      "HidexAMG-Track_30min-035-20240502-093157-AutoExport.xlsx\n",
      "HidexAMG-Track_30min-035-20240502-094742-AutoExport.xlsx\n",
      "HidexAMG-Track_30min-035-20240502-100326-AutoExport.xlsx\n",
      "HidexAMG-Track_30min-035-20240502-101910-AutoExport.xlsx\n",
      "HidexAMG-Track_30min-035-20240502-103454-AutoExport.xlsx\n",
      "HidexAMG-Track_30min-035-20240502-105040-AutoExport.xlsx\n",
      "HidexAMG-Track_30min-035-20240502-110624-AutoExport.xlsx\n",
      "HidexAMG-Track_30min-035-20240502-112209-AutoExport.xlsx\n",
      "HidexAMG-Track_30min-035-20240502-113753-AutoExport.xlsx\n",
      "HidexAMG-Track_30min-035-20240502-115338-AutoExport.xlsx\n",
      "HidexAMG-Track_30min-035-20240502-120922-AutoExport.xlsx\n",
      "HidexAMG-Track_30min-035-20240502-122509-AutoExport.xlsx\n",
      "HidexAMG-Track_30min-035-20240502-124055-AutoExport.xlsx\n",
      "HidexAMG-Track_30min-035-20240502-125644-AutoExport.xlsx\n",
      "HidexAMG-Track_30min-035-20240502-131231-AutoExport.xlsx\n",
      "HidexAMG-Track_30min-035-20240502-132819-AutoExport.xlsx\n",
      "HidexAMG-Track_30min-035-20240502-134409-AutoExport.xlsx\n",
      "HidexAMG-Track_30min-035-20240502-135958-AutoExport.xlsx\n",
      "HidexAMG-Track_30min-035-20240502-141608-AutoExport.xlsx\n",
      "HidexAMG-Track_30min-035-20240502-143157-AutoExport.xlsx\n",
      "HidexAMG-Track_30min-035-20240502-144748-AutoExport.xlsx\n",
      "HidexAMG-Track_30min-035-20240502-150340-AutoExport.xlsx\n",
      "HidexAMG-Track_30min-035-20240502-151932-AutoExport.xlsx\n",
      "HidexAMG-Track_30min-035-20240502-153522-AutoExport.xlsx\n",
      "HidexAMG-Track_30min-035-20240502-155113-AutoExport.xlsx\n",
      "HidexAMG-Track_30min-035-20240502-160703-AutoExport.xlsx\n",
      "HidexAMG-Track_30min-035-20240502-162253-AutoExport.xlsx\n"
     ]
    }
   ],
   "source": [
    "excel_app = xw.App(visible=False)\n",
    "\n",
    "counts_list = []\n",
    "counts_2fwhm_list = []\n",
    "counts_1fwhm_list = []\n",
    "old_counts_list = []\n",
    "timestamps_list = []\n",
    "\n",
    "for f in files:\n",
    "    if \"~\" in f: continue # disregards temporary files\n",
    "    print(f)\n",
    "    \n",
    "    c, c_old, t = counts(f)\n",
    "    c_2fwhm, _, _ = counts(f, peak_options=\"2FWHM\") \n",
    "    c_fwhm, _, _ = counts(f, peak_options=\"1FWHM\") \n",
    "    # TODO: implement this directly into the function since opening/closing excel files takes a long time\n",
    "    \n",
    "    counts_list.extend(c.tolist())\n",
    "    counts_2fwhm_list.extend(c_2fwhm.tolist())\n",
    "    counts_1fwhm_list.extend(c_fwhm.tolist())\n",
    "    timestamps_list.extend(t)\n",
    "    old_counts_list.extend(c_old.tolist())\n",
    "\n",
    "excel_app.quit()"
   ]
  },
  {
   "cell_type": "markdown",
   "id": "7652a58b-1f9f-41cc-a1b8-ac6d557908fa",
   "metadata": {},
   "source": [
    "## 3. Checking if the noise is reduced\n",
    "Finally, we want to compare if there is a difference in the noise between the two methods (400-600 window or two peaks windows)"
   ]
  },
  {
   "cell_type": "code",
   "execution_count": 150,
   "id": "adc6a65e-d71e-46a0-93cb-48966a8c1031",
   "metadata": {},
   "outputs": [],
   "source": [
    "# Sanity check: plot the old vs the new counts\n",
    "plt.plot(timestamps_list, old_counts_list, \".\", label=\"400-600 keV window\")\n",
    "plt.plot(timestamps_list, counts_list, \".\", label=\"Two peaks, 20%-10% windows\")\n",
    "plt.plot(timestamps_list, counts_2fwhm_list, \".\", label=\"Two peaks, 2 FWHM\")\n",
    "plt.ylabel(\"CPM\")\n",
    "plt.xlabel(\"timestamp\")\n",
    "plt.yscale(\"log\")\n",
    "plt.grid()\n",
    "plt.legend()\n",
    "plt.show()"
   ]
  },
  {
   "cell_type": "code",
   "execution_count": 151,
   "id": "66a93d96-4c50-4c1a-a98e-7ecf46fc892e",
   "metadata": {
    "scrolled": true
   },
   "outputs": [
    {
     "name": "stdout",
     "output_type": "stream",
     "text": [
      "0.9954611677827839\n",
      "0.997678239500497\n",
      "0.9981095800029982\n",
      "0.9952707223516475\n",
      "0.9979671228599021\n",
      "0.9989345872345392\n",
      "0.999049690777638\n",
      "0.9985008623730792\n",
      "0.9987502370039555\n",
      "0.9993449942982765\n",
      "\n",
      "0.9953670331986866\n",
      "0.9985604568193478\n",
      "0.9980906651670708\n",
      "0.9946405768823385\n",
      "0.9977633266383663\n",
      "0.9987994885403814\n",
      "0.9991527922538346\n",
      "0.9985236420245028\n",
      "0.999348669248496\n",
      "0.9994166436597706\n",
      "\n",
      "0.9951174511504445\n",
      "0.9980593999424948\n",
      "0.998522092418439\n",
      "0.9957142870126072\n",
      "0.9972891030799208\n",
      "0.998911716236857\n",
      "0.9989831360658483\n",
      "0.9987166396217567\n",
      "0.9992449589465527\n",
      "0.9995598094486665\n",
      "\n",
      "0.9949088557729504\n",
      "0.9977276450148542\n",
      "0.9968626795264035\n",
      "0.9941916428060016\n",
      "0.9970700262073903\n",
      "0.9973555554941482\n",
      "0.9985189910710028\n",
      "0.998511278477066\n",
      "0.9993211558100767\n",
      "0.9989878777279052\n"
     ]
    }
   ],
   "source": [
    "# pablo wants to fit linear functions to the log-scaled data, and compare the r-squared\n",
    "# need to separate individual vials for this\n",
    "timestamps = np.array(timestamps_list).astype('datetime64[s]').astype('int') - timestamps_list[0].astype('datetime64[s]').astype('int')\n",
    "\n",
    "n = 10 # number of vials\n",
    "\n",
    "r2_old = []\n",
    "r2_2fwhm = []\n",
    "r2_2010 = []\n",
    "r2_1fwhm = []\n",
    "\n",
    "for i in range(0, 10):\n",
    "    x = timestamps[i::n]\n",
    "    y = np.log(old_counts_list[i::n])\n",
    "    slope, intercept, r_value, p_value, std_err = scipy.stats.linregress(x, y)\n",
    "    print(r_value**2)\n",
    "    r2_old.append(r_value**2)\n",
    "\n",
    "print()\n",
    "for i in range(0, 10):\n",
    "    x = timestamps[i::n]\n",
    "    y = np.log(counts_2fwhm_list[i::n])\n",
    "    slope, intercept, r_value, p_value, std_err = scipy.stats.linregress(x, y)\n",
    "    print(r_value**2)\n",
    "    r2_2fwhm.append(r_value**2)\n",
    "\n",
    "print()\n",
    "for i in range(0, 10):\n",
    "    x = timestamps[i::n]\n",
    "    y = np.log(counts_list[i::n])\n",
    "    slope, intercept, r_value, p_value, std_err = scipy.stats.linregress(x, y)\n",
    "    print(r_value**2)\n",
    "    r2_2010.append(r_value**2)\n",
    "\n",
    "print()\n",
    "for i in range(0, 10):\n",
    "    x = timestamps[i::n]\n",
    "    y = np.log(counts_1fwhm_list[i::n])\n",
    "    slope, intercept, r_value, p_value, std_err = scipy.stats.linregress(x, y)\n",
    "    print(r_value**2)\n",
    "    r2_1fwhm.append(r_value**2)"
   ]
  },
  {
   "cell_type": "code",
   "execution_count": 152,
   "id": "467eebc7-72ff-408e-9179-e9898e774949",
   "metadata": {},
   "outputs": [],
   "source": [
    "vials = np.linspace(1, 10, 10)\n",
    "plt.plot(vials, r2_old, \".\", label=\"400-600 keV window\")\n",
    "plt.plot(vials, r2_2fwhm, \".\", label=\"Two peaks, 2 FWHM\")\n",
    "plt.plot(vials, r2_1fwhm, \".\", label=\"Two peaks, 1 FWHM\")\n",
    "plt.plot(vials, r2_2010, \".\", label=\"Two peaks, 20%-10% windows\")\n",
    "plt.legend()\n",
    "plt.xlabel(\"Vial\")\n",
    "plt.ylabel(\"R$^2$ value of linear fit\")\n",
    "plt.show()"
   ]
  },
  {
   "cell_type": "code",
   "execution_count": null,
   "id": "c3551770-ccec-4540-aed6-2a582417c051",
   "metadata": {},
   "outputs": [],
   "source": []
  }
 ],
 "metadata": {
  "kernelspec": {
   "display_name": "Python 3 (ipykernel)",
   "language": "python",
   "name": "python3"
  },
  "language_info": {
   "codemirror_mode": {
    "name": "ipython",
    "version": 3
   },
   "file_extension": ".py",
   "mimetype": "text/x-python",
   "name": "python",
   "nbconvert_exporter": "python",
   "pygments_lexer": "ipython3",
   "version": "3.12.0"
  }
 },
 "nbformat": 4,
 "nbformat_minor": 5
}
