{
 "cells": [
  {
   "cell_type": "code",
   "execution_count": 1,
   "id": "90a9ef56-51f2-47cf-a720-0aa8ea55e2f6",
   "metadata": {},
   "outputs": [],
   "source": [
    "import cv2\n",
    "import numpy as np\n",
    "import pytesseract\n",
    "from pytesseract import image_to_string\n",
    "import os\n",
    "import re\n",
    "import matplotlib.pyplot as plt\n",
    "\n",
    "pytesseract.pytesseract.tesseract_cmd = r\"C:\\Program Files\\Tesseract-OCR\\tesseract.exe\" # CHANGE THIS to your own location of tesseract.exe"
   ]
  },
  {
   "cell_type": "markdown",
   "id": "00bccee4-2c66-4e4b-9f47-25c8e385c606",
   "metadata": {},
   "source": [
    "# 1. Crop video\n",
    "\n",
    "Done in Handbrake"
   ]
  },
  {
   "cell_type": "markdown",
   "id": "b210e42d-ceb2-4dfd-99eb-9b742371a663",
   "metadata": {},
   "source": [
    "# 2. Break up videos into frames"
   ]
  },
  {
   "cell_type": "code",
   "execution_count": 13,
   "id": "d89372f5-4643-4e2e-bbdc-eaf39ee8d72f",
   "metadata": {
    "scrolled": true
   },
   "outputs": [
    {
     "name": "stdout",
     "output_type": "stream",
     "text": [
      "True\n",
      "Read a new frame:  True\n",
      "Read a new frame:  True\n",
      "Read a new frame:  True\n",
      "Read a new frame:  True\n",
      "Read a new frame:  True\n",
      "Read a new frame:  True\n",
      "Read a new frame:  True\n",
      "Read a new frame:  True\n",
      "Read a new frame:  True\n",
      "Read a new frame:  True\n",
      "Read a new frame:  True\n",
      "Read a new frame:  True\n",
      "Read a new frame:  True\n",
      "Read a new frame:  True\n",
      "Read a new frame:  True\n",
      "Read a new frame:  True\n",
      "Read a new frame:  True\n",
      "Read a new frame:  True\n",
      "Read a new frame:  True\n",
      "Read a new frame:  True\n",
      "Read a new frame:  True\n",
      "Read a new frame:  True\n",
      "Read a new frame:  True\n",
      "Read a new frame:  True\n",
      "Read a new frame:  True\n",
      "Read a new frame:  True\n",
      "Read a new frame:  True\n",
      "Read a new frame:  True\n",
      "Read a new frame:  True\n",
      "Read a new frame:  True\n",
      "Read a new frame:  True\n",
      "Read a new frame:  True\n",
      "Read a new frame:  True\n",
      "Read a new frame:  True\n",
      "Read a new frame:  True\n",
      "Read a new frame:  True\n",
      "Read a new frame:  True\n",
      "Read a new frame:  True\n",
      "Read a new frame:  True\n",
      "Read a new frame:  True\n",
      "Read a new frame:  True\n",
      "Read a new frame:  True\n",
      "Read a new frame:  True\n",
      "Read a new frame:  True\n",
      "Read a new frame:  True\n",
      "Read a new frame:  True\n",
      "Read a new frame:  True\n",
      "Read a new frame:  True\n",
      "Read a new frame:  True\n",
      "Read a new frame:  True\n",
      "Read a new frame:  True\n",
      "Read a new frame:  True\n",
      "Read a new frame:  True\n",
      "Read a new frame:  False\n"
     ]
    }
   ],
   "source": [
    "path = r'.\\CPM vs time data 2\\1_time.mp4'\n",
    "\n",
    "cap = cv2.VideoCapture(path)\n",
    "success,image = cap.read()\n",
    "print(success)\n",
    "count = 0\n",
    "while success:\n",
    "    cap.set(cv2.CAP_PROP_POS_MSEC,(count*1000)) \n",
    "    cv2.imwrite(\".\\\\CPM vs time data 2\\\\timeframes\\\\frame%d.png\" % count, image)\n",
    "    success,image = cap.read()\n",
    "    print('Read a new frame: ', success)\n",
    "    count += 1"
   ]
  },
  {
   "cell_type": "code",
   "execution_count": 16,
   "id": "66998279-c897-49e2-ba76-06f65430d5f6",
   "metadata": {
    "scrolled": true
   },
   "outputs": [
    {
     "name": "stdout",
     "output_type": "stream",
     "text": [
      "True\n",
      "Read a new frame:  True\n",
      "Read a new frame:  True\n",
      "Read a new frame:  True\n",
      "Read a new frame:  True\n",
      "Read a new frame:  True\n",
      "Read a new frame:  True\n",
      "Read a new frame:  True\n",
      "Read a new frame:  True\n",
      "Read a new frame:  True\n",
      "Read a new frame:  True\n",
      "Read a new frame:  True\n",
      "Read a new frame:  True\n",
      "Read a new frame:  True\n",
      "Read a new frame:  True\n",
      "Read a new frame:  True\n",
      "Read a new frame:  True\n",
      "Read a new frame:  True\n",
      "Read a new frame:  True\n",
      "Read a new frame:  True\n",
      "Read a new frame:  True\n",
      "Read a new frame:  True\n",
      "Read a new frame:  True\n",
      "Read a new frame:  True\n",
      "Read a new frame:  True\n",
      "Read a new frame:  True\n",
      "Read a new frame:  True\n",
      "Read a new frame:  True\n",
      "Read a new frame:  True\n",
      "Read a new frame:  True\n",
      "Read a new frame:  True\n",
      "Read a new frame:  True\n",
      "Read a new frame:  True\n",
      "Read a new frame:  True\n",
      "Read a new frame:  True\n",
      "Read a new frame:  True\n",
      "Read a new frame:  True\n",
      "Read a new frame:  True\n",
      "Read a new frame:  True\n",
      "Read a new frame:  True\n",
      "Read a new frame:  True\n",
      "Read a new frame:  True\n",
      "Read a new frame:  True\n",
      "Read a new frame:  True\n",
      "Read a new frame:  True\n",
      "Read a new frame:  True\n",
      "Read a new frame:  True\n",
      "Read a new frame:  True\n",
      "Read a new frame:  True\n",
      "Read a new frame:  True\n",
      "Read a new frame:  True\n",
      "Read a new frame:  True\n",
      "Read a new frame:  True\n",
      "Read a new frame:  True\n",
      "Read a new frame:  False\n"
     ]
    }
   ],
   "source": [
    "path = r'.\\CPM vs time data 2\\1_CPM.mp4'\n",
    "newpath=r'.\\CPM vs time data 2\\CPMframes'\n",
    "if not os.path.exists(newpath):\n",
    "    os.makedirs(newpath)\n",
    "\n",
    "cap = cv2.VideoCapture(path)\n",
    "success,image = cap.read()\n",
    "print(success)\n",
    "count = 0\n",
    "while success:\n",
    "    cap.set(cv2.CAP_PROP_POS_MSEC,(count*1000)) \n",
    "    cv2.imwrite(\".\\\\CPM vs time data 2\\\\CPMframes\\\\frame%d.png\" % count, image)\n",
    "    success,image = cap.read()\n",
    "    print('Read a new frame: ', success)\n",
    "    count += 1"
   ]
  },
  {
   "cell_type": "markdown",
   "id": "71842172-fd0f-4a04-9842-7f2521c49ccb",
   "metadata": {},
   "source": [
    "# 3. Extract text from videos"
   ]
  },
  {
   "cell_type": "code",
   "execution_count": 2,
   "id": "50d92b52-d9e0-4fbc-a06f-cae0d27664cc",
   "metadata": {},
   "outputs": [],
   "source": [
    "def getNumbers(filename):\n",
    "    # extracts ONLY digits from the frame\n",
    "    \n",
    "    img = cv2.imread(filename)\n",
    "    HSV_img = cv2.cvtColor(img,cv2.COLOR_BGR2HSV)\n",
    "    h,s,v = cv2.split(HSV_img)\n",
    "    v = cv2.GaussianBlur(v, (1,1), 0)\n",
    "    thresh = cv2.threshold(v, 0, 255, cv2.THRESH_BINARY_INV + cv2.THRESH_OTSU)[1]\n",
    "    #cv2.imwrite('{}.png'.format(filename),thresh)\n",
    "    kernel = cv2.getStructuringElement(cv2.MORPH_RECT, ksize=(1, 2))\n",
    "    thresh = cv2.dilate(thresh, kernel)\n",
    "    txt = image_to_string(thresh, config=\"psm=6 tessedit_char_whitelist=0123456789\")\n",
    "    newtxt = re.sub(\"[^0-9]\", \"\", txt)\n",
    "\n",
    "    if newtxt=='':\n",
    "        #print(\"Detected no text\")\n",
    "        return np.nan\n",
    "        \n",
    "    return int(newtxt)\n",
    "\n",
    "def getTime(filename):\n",
    "    # extracts the time in seconds from the frame\n",
    "    \n",
    "    img = cv2.imread(filename)\n",
    "    HSV_img = cv2.cvtColor(img,cv2.COLOR_BGR2HSV)\n",
    "    h,s,v = cv2.split(HSV_img)\n",
    "    v = cv2.GaussianBlur(v, (1,1), 0)\n",
    "    thresh = cv2.threshold(v, 0, 255, cv2.THRESH_BINARY_INV + cv2.THRESH_OTSU)[1]\n",
    "    #cv2.imwrite('{}.png'.format(filename),thresh)\n",
    "    \n",
    "    kernel = cv2.getStructuringElement(cv2.MORPH_RECT, ksize=(1, 1)) #smallest kernel size possible for detecting small structures\n",
    "    thresh = cv2.dilate(thresh, kernel)\n",
    "    txt = image_to_string(thresh, config=\"psm=6 tessedit_char_whitelist=0123456789\") #raw text detected\n",
    "    time = re.sub(\"[^0-9:]\", \"\", txt) #clean it up so it's just digits and colons\n",
    "    \n",
    "    if not time: return np.nan # handle case where no time is detected\n",
    "    \n",
    "    seconds = sum(x * int(t) for x, t in zip([60, 60, 1], time.split(\":\"))) \n",
    "    \n",
    "    return seconds"
   ]
  },
  {
   "cell_type": "code",
   "execution_count": 5,
   "id": "dd411519-3d18-4dec-af1d-f066d1939bfc",
   "metadata": {},
   "outputs": [
    {
     "data": {
      "text/plain": [
       "38474"
      ]
     },
     "execution_count": 5,
     "metadata": {},
     "output_type": "execute_result"
    }
   ],
   "source": [
    "getNumbers(r\"C:\\Users\\yuliy\\OneDrive\\Documents\\Fall 2023\\Research\\counting_time\\processed_data\\7\\cpmframes\\frame4.png\")"
   ]
  },
  {
   "cell_type": "markdown",
   "id": "8c1f0c4c-ab1b-464d-a2ab-fe121bbe412e",
   "metadata": {},
   "source": [
    "# 4. Produce list of values for both videos"
   ]
  },
  {
   "cell_type": "code",
   "execution_count": 7,
   "id": "b34cb10b-c171-47bc-8be2-8e7209b4c648",
   "metadata": {},
   "outputs": [
    {
     "name": "stdout",
     "output_type": "stream",
     "text": [
      "b'.\\\\processed_data\\\\7\\\\7_time.mp4'\n"
     ]
    },
    {
     "ename": "NotADirectoryError",
     "evalue": "[WinError 267] The directory name is invalid: b'.\\\\processed_data\\\\7\\\\7_time.mp4'",
     "output_type": "error",
     "traceback": [
      "\u001b[1;31m---------------------------------------------------------------------------\u001b[0m",
      "\u001b[1;31mNotADirectoryError\u001b[0m                        Traceback (most recent call last)",
      "Cell \u001b[1;32mIn[7], line 5\u001b[0m\n\u001b[0;32m      2\u001b[0m directory \u001b[38;5;241m=\u001b[39m os\u001b[38;5;241m.\u001b[39mfsencode(time_dir)\n\u001b[0;32m      3\u001b[0m \u001b[38;5;28mprint\u001b[39m(directory)\n\u001b[1;32m----> 5\u001b[0m n \u001b[38;5;241m=\u001b[39m \u001b[38;5;28mlen\u001b[39m(\u001b[43mos\u001b[49m\u001b[38;5;241;43m.\u001b[39;49m\u001b[43mlistdir\u001b[49m\u001b[43m(\u001b[49m\u001b[43mdirectory\u001b[49m\u001b[43m)\u001b[49m)\n\u001b[0;32m      6\u001b[0m data \u001b[38;5;241m=\u001b[39m np\u001b[38;5;241m.\u001b[39mzeros(shape\u001b[38;5;241m=\u001b[39m(n, \u001b[38;5;241m2\u001b[39m))\n\u001b[0;32m      8\u001b[0m i \u001b[38;5;241m=\u001b[39m \u001b[38;5;241m0\u001b[39m\n",
      "\u001b[1;31mNotADirectoryError\u001b[0m: [WinError 267] The directory name is invalid: b'.\\\\processed_data\\\\7\\\\7_time.mp4'"
     ]
    }
   ],
   "source": [
    "time_dir = r\".\\processed_data\\7\\7_time.mp4\"\n",
    "directory = os.fsencode(time_dir)\n",
    "print(directory)\n",
    "\n",
    "n = len(os.listdir(directory))\n",
    "data = np.zeros(shape=(n, 2))\n",
    "\n",
    "i = 0\n",
    "for file in os.listdir(directory):\n",
    "    filename = os.fsdecode(file)\n",
    "    if filename.endswith(\".png\"): \n",
    "        data[i, 1] = getTime(time_dir + \"\\\\\" + filename) # stores the time in seconds\n",
    "        data[i, 0] = re.sub(\"[^0-9]\", \"\", filename) # stores the frame number so that we can keep track\n",
    "        i+=1\n",
    "        continue\n",
    "       \n",
    "    else:\n",
    "        continue\n",
    "\n",
    "time_data = data[data[:, 0].argsort(),1]\n",
    "# I dont know what this problem is. womp womp\n",
    "# TODO next time\n"
   ]
  },
  {
   "cell_type": "code",
   "execution_count": 186,
   "id": "6ea257b0-81d0-4ebc-a2d6-95139869138f",
   "metadata": {
    "scrolled": true
   },
   "outputs": [
    {
     "name": "stderr",
     "output_type": "stream",
     "text": [
      "<>:6: SyntaxWarning: assertion is always true, perhaps remove parentheses?\n",
      "<>:6: SyntaxWarning: assertion is always true, perhaps remove parentheses?\n",
      "C:\\Users\\yuliy\\AppData\\Local\\Temp\\ipykernel_14324\\733710777.py:6: SyntaxWarning: assertion is always true, perhaps remove parentheses?\n",
      "  assert(m == n, \"Not the same number of frames between time and CPM data\")\n"
     ]
    }
   ],
   "source": [
    "## do the same for CPM data\n",
    "cpm_dir = r\".\\\\CPM vs time data 2\\\\CPMframes\"\n",
    "directory = os.fsencode(cpm_dir)\n",
    "\n",
    "m = len(os.listdir(directory))\n",
    "assert(m == n, \"Not the same number of frames between time and CPM data\")\n",
    "data = np.zeros(shape=(m, 2))\n",
    "\n",
    "i = 0\n",
    "for file in os.listdir(directory):\n",
    "    filename = os.fsdecode(file)\n",
    "    \n",
    "    if filename.endswith(\".png\"): \n",
    "        data[i, 1] = getNumbers(cpm_dir + \"\\\\\" + filename) # stores the time in seconds\n",
    "        data[i, 0] = re.sub(\"[^0-9]\", \"\", filename) # stores the frame number so that we can keep track\n",
    "        i+=1\n",
    "        continue\n",
    "       \n",
    "    else:\n",
    "        continue\n",
    "\n",
    "cpm_data = data[data[:, 0].argsort(), 1]"
   ]
  },
  {
   "cell_type": "code",
   "execution_count": 192,
   "id": "96eebe47-ec59-4322-8798-6ffb72df2a98",
   "metadata": {},
   "outputs": [
    {
     "data": {
      "image/png": "[encoded data removed]",
      "text/plain": [
       "<Figure size 640x480 with 1 Axes>"
      ]
     },
     "metadata": {},
     "output_type": "display_data"
    }
   ],
   "source": [
    "plt.plot(time_data, cpm_data, \".\")\n",
    "plt.ylim(680000, 720000)\n",
    "plt.show()"
   ]
  },
  {
   "cell_type": "markdown",
   "id": "5d548080-61c2-4462-98f5-61fcbe580cb4",
   "metadata": {},
   "source": [
    "# Collect all the functions"
   ]
  },
  {
   "cell_type": "code",
   "execution_count": 195,
   "id": "49c36d7f-8704-497e-ba7c-c2c6621ce248",
   "metadata": {},
   "outputs": [],
   "source": [
    "def break_into_frames(in_path, destination):\n",
    "    # destination must have a trailing slash\n",
    "    if not os.path.exists(destination):\n",
    "        os.makedirs(destination)\n",
    "        \n",
    "    cap = cv2.VideoCapture(in_path)\n",
    "    success,image = cap.read()\n",
    "    #print(success)\n",
    "    count = 0\n",
    "    while success:\n",
    "        cap.set(cv2.CAP_PROP_POS_MSEC,(count*1000)) \n",
    "        cv2.imwrite(destination + \"frame%d.png\" % count, image)\n",
    "        success,image = cap.read()\n",
    "        #print('Read a new frame: ', success)\n",
    "        count += 1\n",
    "    return True"
   ]
  },
  {
   "cell_type": "code",
   "execution_count": 209,
   "id": "2b9ca15d-b830-4051-ae87-c2e62401fbad",
   "metadata": {
    "scrolled": true
   },
   "outputs": [
    {
     "name": "stdout",
     "output_type": "stream",
     "text": [
      "Processing vial 1\n",
      "Processing vial 2\n",
      "Processing vial 3\n",
      "Processing vial 4\n",
      "Processing vial 5\n",
      "Processing vial 6\n",
      "Processing vial 7\n",
      "Processing vial 8\n"
     ]
    }
   ],
   "source": [
    "for n in range(1,9):\n",
    "    print(\"Processing vial \" + str(n))\n",
    "    # timer part\n",
    "    path = f\"./processed_data/{n}/{n}_time.mp4\"\n",
    "    output = f\"./processed_data/{n}/timeframes/\"\n",
    "    \n",
    "    break_into_frames(path, output)\n",
    "    # CPM part\n",
    "    path = f\"./processed_data/{n}/{n}_cpm.mp4\"\n",
    "    output = f\"./processed_data/{n}/cpmframes/\"\n",
    "    \n",
    "    break_into_frames(path, output)"
   ]
  },
  {
   "cell_type": "code",
   "execution_count": 201,
   "id": "e9479083-d905-49ad-94a2-6309923cc142",
   "metadata": {},
   "outputs": [],
   "source": [
    "def getTimeSeries(time_dir):\n",
    "    # time_dir is the folder containing all the png images of the frames of the time counter\n",
    "\n",
    "    directory = os.fsencode(time_dir)\n",
    "\n",
    "    n = len(os.listdir(directory))\n",
    "    data = np.zeros(shape=(n, 2))\n",
    "    \n",
    "    i = 0\n",
    "    for file in os.listdir(directory):\n",
    "        filename = os.fsdecode(file)\n",
    "        if filename.endswith(\".png\"): \n",
    "            data[i, 1] = getTime(time_dir + \"\\\\\" + filename) # stores the time in seconds\n",
    "            data[i, 0] = re.sub(\"[^0-9]\", \"\", filename) # stores the frame number so that we can sort in order later\n",
    "            i+=1\n",
    "            continue\n",
    "        else:\n",
    "            continue\n",
    "    \n",
    "    time_data = data[data[:, 0].argsort(),1]\n",
    "    return time_data\n",
    "\n",
    "def getCPMSeries(cpm_dir):\n",
    "    directory = os.fsencode(cpm_dir)\n",
    "    \n",
    "    m = len(os.listdir(directory))\n",
    "    #assert(m == n, \"Not the same number of frames between time and CPM data\")\n",
    "    data = np.zeros(shape=(m, 2))\n",
    "    \n",
    "    i = 0\n",
    "    for file in os.listdir(directory):\n",
    "        filename = os.fsdecode(file)\n",
    "        \n",
    "        if filename.endswith(\".png\"): \n",
    "            data[i, 1] = getNumbers(cpm_dir + \"\\\\\" + filename) # stores the time in seconds\n",
    "            data[i, 0] = re.sub(\"[^0-9]\", \"\", filename) # stores the frame number so that we can sort in order\n",
    "            i+=1\n",
    "            continue\n",
    "           \n",
    "        else:\n",
    "            continue\n",
    "    \n",
    "    cpm_data = data[data[:, 0].argsort(), 1]\n",
    "    return cpm_data"
   ]
  },
  {
   "cell_type": "code",
   "execution_count": 212,
   "id": "39de1674-df05-4f7d-9558-34ba9dc245d1",
   "metadata": {},
   "outputs": [
    {
     "name": "stdout",
     "output_type": "stream",
     "text": [
      "Processing vial 1\n",
      "Time series finished.\n",
      "CPM finished.\n",
      "Processing vial 2\n",
      "Time series finished.\n",
      "CPM finished.\n",
      "Processing vial 3\n",
      "Time series finished.\n",
      "CPM finished.\n",
      "Processing vial 4\n",
      "Time series finished.\n",
      "CPM finished.\n",
      "Processing vial 5\n",
      "Time series finished.\n",
      "CPM finished.\n",
      "Processing vial 6\n",
      "Time series finished.\n",
      "CPM finished.\n",
      "Processing vial 7\n",
      "Time series finished.\n",
      "CPM finished.\n",
      "Processing vial 8\n",
      "Time series finished.\n",
      "CPM finished.\n"
     ]
    },
    {
     "data": {
      "text/plain": [
       "<matplotlib.legend.Legend at 0x1d22234edb0>"
      ]
     },
     "execution_count": 212,
     "metadata": {},
     "output_type": "execute_result"
    },
    {
     "data": {
      "image/png": "[encoded data removed]",
      "text/plain": [
       "<Figure size 640x480 with 1 Axes>"
      ]
     },
     "metadata": {},
     "output_type": "display_data"
    }
   ],
   "source": [
    "plt.figure()\n",
    "for n in [1,2,3,4,5,6,7,8]:\n",
    "    print(\"Processing vial \" + str(n))\n",
    "    time_dir = f\"./processed_data/{n}/timeframes/\"\n",
    "    cpm_dir = f\"./processed_data/{n}/cpmframes/\"\n",
    "\n",
    "    time = getTimeSeries(time_dir)\n",
    "    print(\"Time series finished.\")\n",
    "    cpm = getCPMSeries(cpm_dir)\n",
    "    print(\"CPM finished.\")\n",
    "\n",
    "    if len(cpm) > len(time):\n",
    "        cpm = cpm[:len(time)]\n",
    "    \n",
    "    plt.plot(time, cpm, \".\", label=\"Vial \" + str(n))\n",
    "\n",
    "plt.legend()\n"
   ]
  },
  {
   "cell_type": "code",
   "execution_count": null,
   "id": "1906582a-40f4-4a2f-8d0e-d5167115ab42",
   "metadata": {},
   "outputs": [],
   "source": [
    "plt.show()"
   ]
  }
 ],
 "metadata": {
  "kernelspec": {
   "display_name": "Python 3 (ipykernel)",
   "language": "python",
   "name": "python3"
  },
  "language_info": {
   "codemirror_mode": {
    "name": "ipython",
    "version": 3
   },
   "file_extension": ".py",
   "mimetype": "text/x-python",
   "name": "python",
   "nbconvert_exporter": "python",
   "pygments_lexer": "ipython3",
   "version": "3.12.0"
  }
 },
 "nbformat": 4,
 "nbformat_minor": 5
}
