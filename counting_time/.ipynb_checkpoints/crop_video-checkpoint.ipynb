{
 "cells": [
  {
   "cell_type": "code",
   "execution_count": 31,
   "id": "75e5b9ef-f093-4108-90e1-31f4222dac4b",
   "metadata": {},
   "outputs": [],
   "source": [
    "import cv2\n",
    "import numpy as np\n"
   ]
  },
  {
   "cell_type": "code",
   "execution_count": 32,
   "id": "d9b53446-7a00-46f3-b36c-3d9d2e059d31",
   "metadata": {},
   "outputs": [],
   "source": [
    "\n",
    "# (x, y, w, h) = cv2.boundingRect(c)\n",
    "# cv2.rectangle(frame, (x,y), (x+w, y+h), (0, 255, 0), 20)\n",
    "# roi = frame[y:y+h, x:x+w]\n"
   ]
  },
  {
   "cell_type": "code",
   "execution_count": 40,
   "id": "5d9cba5d-0517-44f9-bd97-3c94fb75e6a6",
   "metadata": {},
   "outputs": [],
   "source": [
    "path = r\"C:\\Users\\yuliy\\OneDrive\\Documents\\Fall 2023\\Research\\counting_time\\CPM vs time data 2\\1.mp4\"\n",
    "\n",
    "\n",
    "cap = cv2.VideoCapture(path)\n",
    "\n",
    "# Initialize frame counter\n",
    "cnt = 0\n",
    "\n",
    "# Some characteristics from the original video\n",
    "w_frame, h_frame = int(cap.get(cv2.CAP_PROP_FRAME_WIDTH)), int(cap.get(cv2.CAP_PROP_FRAME_HEIGHT))\n",
    "fps, frames = cap.get(cv2.CAP_PROP_FPS), cap.get(cv2.CAP_PROP_FRAME_COUNT)\n",
    "\n",
    "# Cropping values for timer\n",
    "x,y,h,w = 1735,200,65,110\n",
    "#x2,y2,h2,w2 = \n",
    "\n",
    "# output\n",
    "fourcc = cv2.VideoWriter_fourcc(*'XVID')\n",
    "out_time = cv2.VideoWriter(r'.\\CPM vs time data 2\\1_time.mp4', fourcc, fps, (w, h))\n",
    "#out_CPM = cv2.VideoWriter(r'.\\CPM vs time data\\1\\1_CPM.mp4', fourcc, fps, (w, h))\n",
    "\n",
    "# Now we start\n",
    "while(cap.isOpened()):\n",
    "    ret, frame = cap.read()\n",
    "\n",
    "    cnt += 1 # Counting frames\n",
    "\n",
    "    # Avoid problems when video finish\n",
    "    if ret==True:\n",
    "        # Croping the frame\n",
    "        crop_frame = frame[y:y+h, x:x+w]\n",
    "\n",
    "        # Percentage\n",
    "        #xx = cnt *100/frames\n",
    "        #if int(xx)%5==0:\n",
    "        #    print(int(xx),'%')\n",
    "\n",
    "        out.write(crop_frame)\n",
    "\n",
    "        # Just to see the video in real time          \n",
    "        #cv2.imshow('frame',frame)\n",
    "        cv2.imshow('cropped',crop_frame)\n",
    "\n",
    "        if cv2.waitKey(1) & 0xFF == ord('q'):\n",
    "            break\n",
    "    else:\n",
    "        break\n",
    "\n",
    "cap.release()\n",
    "out.release()\n",
    "cv2.destroyAllWindows()"
   ]
  },
  {
   "cell_type": "markdown",
   "id": "5ed35afb-10e6-41ee-a8b8-f1114d64b55e",
   "metadata": {},
   "source": [
    "## Turn this into a function (later)"
   ]
  },
  {
   "cell_type": "code",
   "execution_count": 37,
   "id": "ed9b5ecb-39a4-4bdb-bcd5-b475489ed5ef",
   "metadata": {},
   "outputs": [],
   "source": [
    "path = r\"C:\\Users\\yuliy\\OneDrive\\Documents\\Fall 2023\\Research\\counting_time\\CPM vs time data\\1\\1.mp4\"\n",
    "\n",
    "def crop_timer(in_path, out_folder):\n",
    "    # outputs 2 videos: timer on Hidex, and CPM\n",
    "    \n",
    "    cap = cv2.VideoCapture(in_path)\n",
    "    \n",
    "    # Initialize frame counter\n",
    "    cnt = 0\n",
    "    \n",
    "    # Some characteristics from the original video\n",
    "    w_frame, h_frame = int(cap.get(cv2.CAP_PROP_FRAME_WIDTH)), int(cap.get(cv2.CAP_PROP_FRAME_HEIGHT))\n",
    "    fps, frames = cap.get(cv2.CAP_PROP_FPS), cap.get(cv2.CAP_PROP_FRAME_COUNT)\n",
    "    \n",
    "    # Cropping values for timer\n",
    "    x,y,h,w = 1735,200,65,110\n",
    "    \n",
    "    # output\n",
    "    fourcc = cv2.VideoWriter_fourcc(*'XVID')\n",
    "    out_path_timer = r\".\\CPM vs time data\\\\\" + out_folder + \"\"\n",
    "    out_time = cv2.VideoWriter(r\".\\CPM vs time data\\1\\1_timer.mp4\", fourcc, fps, (w, h))\n",
    "    out_CPM = cv2.VideoWriter(r, fourcc, fps, (w, h))\n",
    "    \n",
    "    # Now we start\n",
    "    while(cap.isOpened()):\n",
    "        ret, frame = cap.read()\n",
    "    \n",
    "        cnt += 1 # Counting frames\n",
    "    \n",
    "        # Avoid problems when video finish\n",
    "        if ret==True:\n",
    "            # Croping the frame\n",
    "            crop_frame = frame[y:y+h, x:x+w]\n",
    "    \n",
    "            # Percentage\n",
    "            #xx = cnt *100/frames\n",
    "            #if int(xx)%5==0:\n",
    "            #    print(int(xx),'%')\n",
    "    \n",
    "            out.write(crop_frame)\n",
    "    \n",
    "            # Just to see the video in real time          \n",
    "            #cv2.imshow('frame',frame)\n",
    "            cv2.imshow('cropped',crop_frame)\n",
    "    \n",
    "            if cv2.waitKey(1) & 0xFF == ord('q'):\n",
    "                break\n",
    "        else:\n",
    "            break\n",
    "    \n",
    "    cap.release()\n",
    "    out.release()\n",
    "    cv2.destroyAllWindows()"
   ]
  },
  {
   "cell_type": "code",
   "execution_count": 38,
   "id": "39de0c23-e5bd-4da7-8234-f2f16f7ab981",
   "metadata": {},
   "outputs": [],
   "source": [
    "crop_timer(path, \".\")"
   ]
  },
  {
   "cell_type": "code",
   "execution_count": null,
   "id": "8ae7f77f-6140-4e82-bc4f-402dd1fcdc3a",
   "metadata": {},
   "outputs": [],
   "source": []
  }
 ],
 "metadata": {
  "kernelspec": {
   "display_name": "Python 3 (ipykernel)",
   "language": "python",
   "name": "python3"
  },
  "language_info": {
   "codemirror_mode": {
    "name": "ipython",
    "version": 3
   },
   "file_extension": ".py",
   "mimetype": "text/x-python",
   "name": "python",
   "nbconvert_exporter": "python",
   "pygments_lexer": "ipython3",
   "version": "3.12.0"
  }
 },
 "nbformat": 4,
 "nbformat_minor": 5
}
